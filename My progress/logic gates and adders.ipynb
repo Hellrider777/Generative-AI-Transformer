{
  "nbformat": 4,
  "nbformat_minor": 0,
  "metadata": {
    "colab": {
      "provenance": []
    },
    "kernelspec": {
      "name": "python3",
      "display_name": "Python 3"
    },
    "language_info": {
      "name": "python"
    }
  },
  "cells": [
    {
      "cell_type": "code",
      "source": [
        "import numpy as np\n",
        "\n",
        "inp_1 = int(input(\"first value (0/1): \"))\n",
        "inp_2 = int(input(\"second value (0/1): \"))\n",
        "\n",
        "x1 = (-1)**(inp_1 + 1)\n",
        "x2 = (-1)**(inp_2 + 1)\n",
        "\n",
        "w1 = 0.5\n",
        "w2 = 0.5\n",
        "\n",
        "inp = np.array([[x1, x2]])\n",
        "w = np.array([[w1], [w2]])\n",
        "\n",
        "final = np.dot(inp, w)\n",
        "\n",
        "output = final.sum()\n",
        "\n",
        "if output > 0:\n",
        "    print(\"1\")\n",
        "else:\n",
        "    print(\"0\")\n"
      ],
      "metadata": {
        "colab": {
          "base_uri": "https://localhost:8080/"
        },
        "id": "sMODvA7ovnqP",
        "outputId": "21ea8d5c-3af4-48cc-eba6-af1de0d4aa2f"
      },
      "execution_count": null,
      "outputs": [
        {
          "output_type": "stream",
          "name": "stdout",
          "text": [
            "first value (0/1): 0\n",
            "second value (0/1): 0\n",
            "0\n"
          ]
        }
      ]
    },
    {
      "cell_type": "markdown",
      "source": [
        "**NOT** GATE"
      ],
      "metadata": {
        "id": "yioLr-gj5_1y"
      }
    },
    {
      "cell_type": "code",
      "source": [
        "def func1(x):\n",
        "  return (x+1)//2\n",
        "\n",
        "\n",
        "def not_gate(inp):\n",
        "    x = (-1)**(inp + 1)\n",
        "    w = -1\n",
        "    return func1(x*w)\n",
        "\n",
        "not_gate(0)"
      ],
      "metadata": {
        "colab": {
          "base_uri": "https://localhost:8080/"
        },
        "id": "C7MgCo8M5-3t",
        "outputId": "8743ee51-4395-4a57-8bbb-639f211931b1"
      },
      "execution_count": null,
      "outputs": [
        {
          "output_type": "execute_result",
          "data": {
            "text/plain": [
              "1"
            ]
          },
          "metadata": {},
          "execution_count": 40
        }
      ]
    },
    {
      "cell_type": "markdown",
      "source": [
        "**AND** GATE"
      ],
      "metadata": {
        "id": "pr2cNp795saj"
      }
    },
    {
      "cell_type": "code",
      "source": [
        "import numpy as np\n",
        "\n",
        "def func2(output):\n",
        "    if output > 0:\n",
        "        return 1\n",
        "    else:\n",
        "        return 0\n",
        "\n",
        "def and_gate(inp_1, inp_2):\n",
        "    x1 = (-1)**(inp_1 + 1)\n",
        "    x2 = (-1)**(inp_2 + 1)\n",
        "\n",
        "    w1 = 0.5\n",
        "    w2 = 0.5\n",
        "\n",
        "    inp = np.array([[x1, x2]])\n",
        "    w = np.array([[w1], [w2]])\n",
        "\n",
        "    final = np.dot(inp, w)\n",
        "\n",
        "    output = final.sum()\n",
        "    return func2(output)\n",
        "\n",
        "\n",
        "and_gate(1,0)\n"
      ],
      "metadata": {
        "colab": {
          "base_uri": "https://localhost:8080/"
        },
        "id": "4dvMQJitxaUi",
        "outputId": "20fc0cdb-3f5a-40fd-e1f6-2cdc6b33f89c"
      },
      "execution_count": null,
      "outputs": [
        {
          "output_type": "execute_result",
          "data": {
            "text/plain": [
              "0"
            ]
          },
          "metadata": {},
          "execution_count": 42
        }
      ]
    },
    {
      "cell_type": "markdown",
      "source": [
        "**OR** GATE"
      ],
      "metadata": {
        "id": "Mgy0zhlr5w_B"
      }
    },
    {
      "cell_type": "code",
      "source": [
        "import numpy as np\n",
        "\n",
        "def func3(output):\n",
        "    if output >=0:\n",
        "        return 1\n",
        "    else:\n",
        "        return 0\n",
        "\n",
        "def or_gate(inp_1, inp_2):\n",
        "    x1 = (-1)**(inp_1 + 1)\n",
        "    x2 = (-1)**(inp_2 + 1)\n",
        "\n",
        "    w1 = 0.5\n",
        "    w2 = 0.5\n",
        "\n",
        "    inp = np.array([[x1, x2]])\n",
        "    w = np.array([[w1], [w2]])\n",
        "\n",
        "    final = np.dot(inp, w)\n",
        "\n",
        "    output = final.sum()\n",
        "    return func3(output)\n",
        "\n",
        "\n",
        "or_gate(1,0)\n"
      ],
      "metadata": {
        "colab": {
          "base_uri": "https://localhost:8080/"
        },
        "id": "Rj3DnSOF5zYv",
        "outputId": "99a9ff7f-23e1-4596-93a8-701a11e41d05"
      },
      "execution_count": null,
      "outputs": [
        {
          "output_type": "execute_result",
          "data": {
            "text/plain": [
              "1"
            ]
          },
          "metadata": {},
          "execution_count": 43
        }
      ]
    },
    {
      "cell_type": "markdown",
      "source": [
        "**XOR** GATE"
      ],
      "metadata": {
        "id": "mkTRWde657nx"
      }
    },
    {
      "cell_type": "code",
      "source": [
        "import numpy as np\n",
        "\n",
        "def func4(output):\n",
        "    if output==0:\n",
        "        return 1\n",
        "    else:\n",
        "        return 0\n",
        "\n",
        "def xor_gate(inp_1, inp_2):\n",
        "    x1 = (-1)**(inp_1 + 1)\n",
        "    x2 = (-1)**(inp_2 + 1)\n",
        "\n",
        "    w1 = 0.5\n",
        "    w2 = 0.5\n",
        "\n",
        "    inp = np.array([[x1, x2]])\n",
        "    w = np.array([[w1], [w2]])\n",
        "\n",
        "    final = np.dot(inp, w)\n",
        "\n",
        "    output = final.sum()\n",
        "\n",
        "    return func4(output)\n",
        "\n",
        "xor_gate(1,0)\n"
      ],
      "metadata": {
        "colab": {
          "base_uri": "https://localhost:8080/"
        },
        "id": "fEX1KnC10fP9",
        "outputId": "1f0d5f5c-a98c-4938-bf2f-897004bbc850"
      },
      "execution_count": null,
      "outputs": [
        {
          "output_type": "execute_result",
          "data": {
            "text/plain": [
              "1"
            ]
          },
          "metadata": {},
          "execution_count": 46
        }
      ]
    },
    {
      "cell_type": "markdown",
      "source": [
        "**FULL ADDER**"
      ],
      "metadata": {
        "id": "QzWhrdz2_Up7"
      }
    },
    {
      "cell_type": "code",
      "source": [
        "def adder_sum(inp_1, inp_2 , cin):\n",
        "  return xor_gate(xor_gate(inp_1, inp_2), cin)\n",
        "\n",
        "def adder_cout(inp_1, inp_2 , cin):\n",
        "  return or_gate(or_gate(and_gate(inp_1, inp_2), and_gate(inp_1, cin)), and_gate(inp_2, cin))\n",
        "\n",
        "print(adder_sum(1,1,1))\n",
        "print(adder_cout(1,1,1))"
      ],
      "metadata": {
        "colab": {
          "base_uri": "https://localhost:8080/"
        },
        "id": "5KcWl3ui3Cel",
        "outputId": "434382ac-730c-4656-c3b7-524f11d741b5"
      },
      "execution_count": null,
      "outputs": [
        {
          "output_type": "stream",
          "name": "stdout",
          "text": [
            "1\n",
            "1\n"
          ]
        }
      ]
    },
    {
      "cell_type": "markdown",
      "source": [
        "**RIPPLE ADDER**"
      ],
      "metadata": {
        "id": "acUTJQ1T_XXL"
      }
    },
    {
      "cell_type": "code",
      "source": [
        "def ripple_adder(inp_1 , inp_2):\n",
        "  sum = 0\n",
        "  cout = 0\n",
        "  i =0\n",
        "  while(inp_1 >0 or inp_2 >0):\n",
        "    sum += adder_sum(inp_1%10, inp_2%10, cout)*(10**i)\n",
        "    cout = adder_cout(inp_1%10, inp_2%10, cout)\n",
        "    i+=1\n",
        "    inp_1 = inp_1//10\n",
        "    inp_2 = inp_2//10\n",
        "  sum+= cout*(10**i)\n",
        "  return sum\n",
        "\n",
        "ripple_adder(1111,1000)"
      ],
      "metadata": {
        "colab": {
          "base_uri": "https://localhost:8080/"
        },
        "id": "iamzEPo_9r9q",
        "outputId": "622b7226-38b1-4e72-d15d-566293724acb"
      },
      "execution_count": null,
      "outputs": [
        {
          "output_type": "execute_result",
          "data": {
            "text/plain": [
              "10111"
            ]
          },
          "metadata": {},
          "execution_count": 56
        }
      ]
    }
  ]
}